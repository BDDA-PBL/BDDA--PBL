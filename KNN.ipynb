{
 "cells": [
  {
   "cell_type": "code",
   "execution_count": 1,
   "id": "1ecd63bd",
   "metadata": {},
   "outputs": [
    {
     "data": {
      "image/png": "[encoded data removed]",
      "text/plain": [
       "<Figure size 432x288 with 1 Axes>"
      ]
     },
     "metadata": {
      "needs_background": "light"
     },
     "output_type": "display_data"
    }
   ],
   "source": [
    "import pandas as pd\n",
    "import numpy as np\n",
    "import matplotlib.pyplot as plt\n",
    "%matplotlib inline\n",
    "from sklearn.datasets import make_classification\n",
    "from sklearn.model_selection import train_test_split\n",
    "from sklearn.preprocessing import StandardScaler\n",
    "from sklearn.neighbors import KNeighborsClassifier \n",
    "from sklearn import metrics\n",
    "dataset = pd.read_csv(\"/Users/gauravkumar/Downloads/train_AV3.csv\")\n",
    "dataset['LoanAmount_log']=np.log(dataset['LoanAmount'])\n",
    "dataset['LoanAmount_log'].hist(bins=20)\n",
    "dataset.isnull().sum()\n",
    "dataset['Gender'].fillna(dataset['Gender'].mode()[0], inplace=True)\n",
    "dataset['Married'].fillna(dataset['Married'].mode()[0], inplace=True)\n",
    "dataset['Dependents'].fillna(dataset['Dependents'].mode()[0], inplace=True)\n",
    "dataset['Self_Employed'].fillna(dataset['Self_Employed'].mode()[0], inplace=True)\n",
    "dataset.LoanAmount = dataset.LoanAmount.fillna(dataset.LoanAmount.mean())\n",
    "dataset.LoanAmount_log = dataset.LoanAmount_log.fillna(dataset.LoanAmount_log.mean())\n",
    "dataset['Loan_Amount_Term'].fillna(dataset['Loan_Amount_Term'].mode()[0], inplace=True)\n",
    "dataset['Credit_History'].fillna(dataset['Credit_History'].mode()[0], inplace=True)\n",
    "dataset['TotalIncome']=dataset['ApplicantIncome']+dataset['CoapplicantIncome']\n",
    "dataset['TotalIncome_log']=np.log(dataset['TotalIncome'])\n",
    "x= dataset.iloc[:, np.r_[1:5, 9:11, 13:15]].values\n",
    "y= dataset.iloc[:, 12].values\n",
    "from sklearn.model_selection import train_test_split\n",
    "x_train, x_test, y_train, y_test = train_test_split(x, y, test_size=0.2, random_state=0)\n",
    "from sklearn.preprocessing import LabelEncoder\n",
    "labelencoder_x = LabelEncoder()\n",
    "for i in range(0, 5):\n",
    "    x_train[:, i]=labelencoder_x.fit_transform(x_train[:, i])\n",
    "x_train[:, 7]= labelencoder_x.fit_transform(x_train[:, 7])\n",
    "labelencoder_y= LabelEncoder()\n",
    "y_train = labelencoder_y.fit_transform(y_train)\n",
    "for i in range(0, 5):\n",
    "    x_test[:, i]=labelencoder_x.fit_transform(x_test[:, i])\n",
    "x_test[:, 7]= labelencoder_x.fit_transform(x_test[:, 7])\n",
    "labelencoder_y= LabelEncoder()\n",
    "y_test = labelencoder_y.fit_transform(y_test)\n",
    "from sklearn.preprocessing import StandardScaler\n",
    "ss= StandardScaler()\n",
    "x_train= ss.fit_transform(x_train)\n",
    "x_test= ss.fit_transform(x_test)\n"
   ]
  },
  {
   "cell_type": "code",
   "execution_count": 8,
   "id": "19ce7663",
   "metadata": {},
   "outputs": [
    {
     "name": "stdout",
     "output_type": "stream",
     "text": [
      "[0.1975560081466395, 0.19959266802443992, 0.19959266802443992, 0.19959266802443992, 0.19959266802443992, 0.20162932790224034, 0.1975560081466395, 0.19959266802443992, 0.19959266802443992, 0.20162932790224034, 0.1975560081466395, 0.1975560081466395, 0.1975560081466395, 0.20162932790224034, 0.1975560081466395]\n",
      "[0.17073170731707318, 0.17073170731707318, 0.17073170731707318, 0.17886178861788618, 0.17886178861788618, 0.17886178861788618, 0.17886178861788618, 0.17886178861788618, 0.17886178861788618, 0.17886178861788618, 0.17886178861788618, 0.18699186991869918, 0.18699186991869918, 0.18699186991869918, 0.18699186991869918]\n"
     ]
    }
   ],
   "source": [
    "error1= []\n",
    "error2= []\n",
    "for k in range(60,75):\n",
    "    knn= KNeighborsClassifier(n_neighbors=k)\n",
    "    knn.fit(x_train,y_train)\n",
    "    y_pred1= knn.predict(x_train)\n",
    "    error1.append(np.mean(y_train!= y_pred1))\n",
    "    y_pred2= knn.predict(x_test)\n",
    "    error2.append(np.mean(y_test!= y_pred2))\n",
    "print(error1)\n",
    "print(error2)"
   ]
  },
  {
   "cell_type": "code",
   "execution_count": 9,
   "id": "0b90ee2b",
   "metadata": {},
   "outputs": [
    {
     "data": {
      "text/plain": [
       "<matplotlib.legend.Legend at 0x11fea0ca0>"
      ]
     },
     "execution_count": 9,
     "metadata": {},
     "output_type": "execute_result"
    },
    {
     "data": {
      "image/png": "[encoded data removed]",
      "text/plain": [
       "<Figure size 432x288 with 1 Axes>"
      ]
     },
     "metadata": {
      "needs_background": "light"
     },
     "output_type": "display_data"
    }
   ],
   "source": [
    "plt.plot(range(60,75),error1,label=\"train\")\n",
    "plt.plot(range(60,75),error2,label=\"test\")\n",
    "plt.xlabel('k Value')\n",
    "plt.ylabel('Error')\n",
    "plt.legend()"
   ]
  },
  {
   "cell_type": "code",
   "execution_count": 13,
   "id": "3781bad2",
   "metadata": {},
   "outputs": [
    {
     "data": {
      "text/plain": [
       "0.8292682926829268"
      ]
     },
     "execution_count": 13,
     "metadata": {},
     "output_type": "execute_result"
    }
   ],
   "source": [
    "knn= KNeighborsClassifier(n_neighbors=61)\n",
    "knn.fit(x_train,y_train)\n",
    "y_pred= knn.predict(x_test)\n",
    "metrics.accuracy_score(y_test,y_pred)"
   ]
  },
  {
   "cell_type": "code",
   "execution_count": null,
   "id": "a1a5edd0",
   "metadata": {},
   "outputs": [],
   "source": []
  }
 ],
 "metadata": {
  "kernelspec": {
   "display_name": "Python 3 (ipykernel)",
   "language": "python",
   "name": "python3"
  },
  "language_info": {
   "codemirror_mode": {
    "name": "ipython",
    "version": 3
   },
   "file_extension": ".py",
   "mimetype": "text/x-python",
   "name": "python",
   "nbconvert_exporter": "python",
   "pygments_lexer": "ipython3",
   "version": "3.9.7"
  }
 },
 "nbformat": 4,
 "nbformat_minor": 5
}
